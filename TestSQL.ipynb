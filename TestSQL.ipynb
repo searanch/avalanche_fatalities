{
 "cells": [
  {
   "cell_type": "code",
   "execution_count": 12,
   "id": "8ebef6f3-a027-42de-b628-40a2c544e17d",
   "metadata": {},
   "outputs": [],
   "source": [
    "import pandas as pd\n",
    "import seaborn as sns\n",
    "import matplotlib.pyplot as plt\n",
    "\n",
    "\n",
    "df = pd.read_csv(\"data/accidents.csv\")\n"
   ]
  },
  {
   "cell_type": "code",
   "execution_count": null,
   "id": "a0fb27f7-4d69-49a2-8110-e5d804e3f183",
   "metadata": {},
   "outputs": [],
   "source": [
    "# made the db\n",
    "\n",
    "# Write the DataFrame to a table in the database\n",
    "#df.to_sql('accidents', conn)\n",
    "\n",
    "# Close the database connection\n",
    "#conn.close()"
   ]
  },
  {
   "cell_type": "code",
   "execution_count": 11,
   "id": "fcbde1ed-d385-4845-a143-7734fca80ef3",
   "metadata": {},
   "outputs": [
    {
     "name": "stdout",
     "output_type": "stream",
     "text": [
      "[(1951, 1), (1952, 6), (1953, 2), (1954, 3), (1955, 1), (1956, 3), (1957, 4), (1958, 4), (1959, 2), (1960, 3), (1961, 1), (1962, 5), (1963, 3), (1964, 5), (1965, 4), (1966, 3), (1967, 3), (1968, 4), (1969, 5), (1970, 3), (1971, 8), (1972, 5), (1973, 4), (1974, 9), (1975, 17), (1976, 15), (1977, 6), (1978, 12), (1979, 8), (1980, 6), (1981, 12), (1982, 13), (1983, 13), (1984, 12), (1985, 14), (1986, 13), (1987, 13), (1988, 4), (1989, 6), (1990, 8), (1991, 9), (1992, 17), (1993, 26), (1994, 8), (1995, 23), (1996, 24), (1997, 16), (1998, 24), (1999, 24), (2000, 20), (2001, 27), (2002, 26), (2003, 28), (2004, 19), (2005, 24), (2006, 22), (2007, 19), (2008, 28), (2009, 24), (2010, 32), (2011, 22), (2012, 27), (2013, 19), (2014, 28), (2015, 10), (2016, 29), (2017, 12), (2018, 21), (2019, 23), (2020, 19), (2021, 29), (2022, 14)]\n"
     ]
    }
   ],
   "source": [
    "import sqlite3\n",
    "# Connect to the SQLite database\n",
    "conn = sqlite3.connect('Avalanch.db')\n",
    "cur = conn.cursor()\n",
    "\n",
    "cur.execute('SELECT AvyYear, count(*) FROM accidents group by AvyYear ')\n",
    "results = cur.fetchall()\n",
    "print(results)\n",
    "\n",
    "conn.close()\n"
   ]
  },
  {
   "cell_type": "code",
   "execution_count": null,
   "id": "5d3fe415-a914-40fa-9439-8700c03bc78a",
   "metadata": {},
   "outputs": [],
   "source": []
  }
 ],
 "metadata": {
  "kernelspec": {
   "display_name": "Python 3",
   "language": "python",
   "name": "python3"
  },
  "language_info": {
   "codemirror_mode": {
    "name": "ipython",
    "version": 3
   },
   "file_extension": ".py",
   "mimetype": "text/x-python",
   "name": "python",
   "nbconvert_exporter": "python",
   "pygments_lexer": "ipython3",
   "version": "3.8.8"
  }
 },
 "nbformat": 4,
 "nbformat_minor": 5
}
